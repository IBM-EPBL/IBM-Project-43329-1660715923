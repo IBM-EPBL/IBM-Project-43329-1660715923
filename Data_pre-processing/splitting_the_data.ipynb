{
  "nbformat": 4,
  "nbformat_minor": 0,
  "metadata": {
    "colab": {
      "provenance": []
    },
    "kernelspec": {
      "name": "python3",
      "display_name": "Python 3"
    },
    "language_info": {
      "name": "python"
    }
  },
  "cells": [
    {
      "cell_type": "code",
      "execution_count": null,
      "metadata": {
        "id": "x018Ux8tjXgM"
      },
      "outputs": [],
      "source": []
    },
    {
      "cell_type": "markdown",
      "source": [
        "import library"
      ],
      "metadata": {
        "id": "0E6nSn0jjb9A"
      }
    },
    {
      "cell_type": "code",
      "source": [
        "import pandas as pd \n",
        "import numpy as np\n",
        "from sklearn.preprocessing import MinMaxScaler\n",
        "from sklearn.metrics import confusion_matrix,accuracy_score"
      ],
      "metadata": {
        "id": "3NymQ4sJjeRz"
      },
      "execution_count": 1,
      "outputs": []
    },
    {
      "cell_type": "markdown",
      "source": [
        "import dataset"
      ],
      "metadata": {
        "id": "v5nfttCLju2B"
      }
    },
    {
      "cell_type": "code",
      "source": [
        "data=pd.read_csv(\"/content/drive/MyDrive/dataset_website.csv\")"
      ],
      "metadata": {
        "id": "fOaUSwjIjx5z"
      },
      "execution_count": 2,
      "outputs": []
    },
    {
      "cell_type": "markdown",
      "source": [
        "splitting"
      ],
      "metadata": {
        "id": "pf8e5xRBj8Pp"
      }
    },
    {
      "cell_type": "markdown",
      "source": [
        "Removing Index column in independent Dataset"
      ],
      "metadata": {
        "id": "wKcxA0F9kBLj"
      }
    },
    {
      "cell_type": "code",
      "source": [
        "x=data.iloc[:,1:31].values\n",
        "y=data.iloc[:,-1].values\n",
        "print(x,y)"
      ],
      "metadata": {
        "colab": {
          "base_uri": "https://localhost:8080/"
        },
        "id": "nZBchVOGkECn",
        "outputId": "a0f88891-f6c2-48b9-b470-4fc4604d3ce2"
      },
      "execution_count": 3,
      "outputs": [
        {
          "output_type": "stream",
          "name": "stdout",
          "text": [
            "[[-1  1  1 ...  1  1 -1]\n",
            " [ 1  1  1 ...  1  1  1]\n",
            " [ 1  0  1 ...  1  0 -1]\n",
            " ...\n",
            " [ 1 -1  1 ...  1  0  1]\n",
            " [-1 -1  1 ...  1  1  1]\n",
            " [-1 -1  1 ... -1  1 -1]] [-1 -1 -1 ... -1 -1 -1]\n"
          ]
        }
      ]
    },
    {
      "cell_type": "markdown",
      "source": [
        "Splitting Data into train and tes"
      ],
      "metadata": {
        "id": "OJYfR9GTkNGL"
      }
    },
    {
      "cell_type": "code",
      "source": [
        "from sklearn.model_selection import train_test_split\n",
        "x_train,x_test,y_train,y_test=train_test_split(x,y,test_size=0.2,random_state=0)"
      ],
      "metadata": {
        "id": "-0fqZzrbkNuD"
      },
      "execution_count": 4,
      "outputs": []
    }
  ]
}